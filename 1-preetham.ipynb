{
  "nbformat": 4,
  "nbformat_minor": 0,
  "metadata": {
    "colab": {
      "name": "dsa1.ipynb",
      "provenance": []
    },
    "kernelspec": {
      "name": "python3",
      "display_name": "Python 3"
    },
    "language_info": {
      "name": "python"
    }
  },
  "cells": [
    {
      "cell_type": "code",
      "metadata": {
        "id": "cYSCiOozn-MO"
      },
      "source": [
        "import math\n",
        "import numpy as np"
      ],
      "execution_count": 1,
      "outputs": []
    },
    {
      "cell_type": "code",
      "metadata": {
        "id": "OEUr7sS5bWNU",
        "colab": {
          "base_uri": "https://localhost:8080/"
        },
        "outputId": "fbfeceec-8655-496f-cf11-eb1c669a8ef8"
      },
      "source": [
        "#definelist\n",
        "arr=[]\n",
        "\n",
        "#sizeofarray\n",
        "n= int(input(\"size of array:\"))\n",
        "\n",
        "#insertelements\n",
        "for i in range(n):\n",
        "  x=int(input(\"element:\"))\n",
        "  arr.append(x)"
      ],
      "execution_count": 47,
      "outputs": [
        {
          "output_type": "stream",
          "text": [
            "size of array:6\n",
            "element:6\n",
            "element:5\n",
            "element:12\n",
            "element:10\n",
            "element:9\n",
            "element:1\n"
          ],
          "name": "stdout"
        }
      ]
    },
    {
      "cell_type": "code",
      "metadata": {
        "id": "ZXi_n0DcbWT0"
      },
      "source": [
        "#insertionsort\n",
        "def insertion_sort(arr):\n",
        "  for j in range(1,len(arr)):\n",
        "    k=arr[j]\n",
        "    i=j-1\n",
        "    while i>-1 and arr[i]>k:\n",
        "      arr[i+1]=arr[i]\n",
        "      i=i-1\n",
        "    arr[i+1]=k\n",
        "\n",
        "\n"
      ],
      "execution_count": 61,
      "outputs": []
    },
    {
      "cell_type": "code",
      "metadata": {
        "colab": {
          "base_uri": "https://localhost:8080/"
        },
        "id": "TQJ3JlrRjgqf",
        "outputId": "bbee5e6d-7e4d-4f2f-d804-b993269ed142"
      },
      "source": [
        "#callingfunction\n",
        "insertion_sort(arr)\n",
        "\n",
        "#printsortedarray\n",
        "print(arr)"
      ],
      "execution_count": 62,
      "outputs": [
        {
          "output_type": "stream",
          "text": [
            "[1, 5, 6, 9, 10, 12]\n"
          ],
          "name": "stdout"
        }
      ]
    },
    {
      "cell_type": "code",
      "metadata": {
        "id": "VF9-T5kvjkpa"
      },
      "source": [
        "#defineinfinity\n",
        "infi=np.inf\n",
        "\n",
        "#merge\n",
        "def merge(arr,p,q,r):\n",
        "  n1=q-p+1\n",
        "  n2=r-q\n",
        "  L=[0]*(n1)\n",
        "  R=[0]*(n2)\n",
        "  for i in range(0,n1):\n",
        "    L[i]=arr[p+i]\n",
        "  for j in range(0,n2):\n",
        "    R[j]=arr[q+j+1]\n",
        "  \n",
        "  L.insert(n1,infi)\n",
        "  R.insert(n2,infi)\n",
        "  i=0\n",
        "  j=0\n",
        "  for k in range(p,r+1):\n",
        "    if (L[i]<=R[j]):\n",
        "      arr[k]=L[i]\n",
        "      i=i+1\n",
        "    else:\n",
        "      arr[k]=R[j]\n",
        "      j=j+1\n",
        "\n",
        "\n",
        "\n",
        "\n",
        "\n",
        "\n",
        "\n",
        "\n",
        "\n",
        "\n"
      ],
      "execution_count": 57,
      "outputs": []
    },
    {
      "cell_type": "code",
      "metadata": {
        "id": "S2J6ugRgjk3E"
      },
      "source": [
        "#mergesort\n",
        "def merge_sort(arr,p,r):\n",
        "  if (p<r):\n",
        "    q= (p+r)//2\n",
        "    merge_sort(arr,p,q)\n",
        "    merge_sort(arr,q+1,r)\n",
        "    merge(arr,p,q,r)"
      ],
      "execution_count": 58,
      "outputs": []
    },
    {
      "cell_type": "code",
      "metadata": {
        "colab": {
          "base_uri": "https://localhost:8080/"
        },
        "id": "Vbu8waR1qu3v",
        "outputId": "94edbeb2-2eb6-4196-b3a3-0acec0862b95"
      },
      "source": [
        "#callingfunction\n",
        "merge_sort(arr,0,(len(arr)-1))\n",
        "\n",
        "#printsortedarray\n",
        "print(arr)"
      ],
      "execution_count": 59,
      "outputs": [
        {
          "output_type": "stream",
          "text": [
            "[1, 5, 6, 9, 10, 12]\n"
          ],
          "name": "stdout"
        }
      ]
    }
  ]
}