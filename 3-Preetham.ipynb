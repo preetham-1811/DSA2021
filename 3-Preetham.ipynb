{
  "nbformat": 4,
  "nbformat_minor": 0,
  "metadata": {
    "colab": {
      "name": "Dsa_Assignment_3.ipynb",
      "provenance": []
    },
    "kernelspec": {
      "name": "python3",
      "display_name": "Python 3"
    },
    "language_info": {
      "name": "python"
    }
  },
  "cells": [
    {
      "cell_type": "code",
      "metadata": {
        "id": "TVOT2DJ2BecR"
      },
      "source": [
        "import numpy as np\n",
        "import time\n",
        "import matplotlib.pyplot as plt"
      ],
      "execution_count": 1,
      "outputs": []
    },
    {
      "cell_type": "code",
      "metadata": {
        "id": "jJ6YjwMuFLrB"
      },
      "source": [
        "infi = np.inf\n",
        "\n",
        "#numbers on the left\n",
        "def MaxCrossingSubarray(A,low,mid,high):\n",
        "  left_sum = -infi\n",
        "  sum = 0\n",
        "  for i in range(mid,low-1,-1):\n",
        "    sum= sum + A[i]\n",
        "    if (sum>left_sum):\n",
        "      left_sum=sum\n",
        "      max_left=i\n",
        "\n",
        "\n",
        " #numbers on the right \n",
        "  right_sum = -infi\n",
        "  sum = 0\n",
        "\n",
        "  for j in range(mid+1,high+1):\n",
        "    sum= sum + A[j]\n",
        "    if (sum>right_sum):\n",
        "      right_sum = sum\n",
        "      max_right = j\n",
        "\n",
        "  return (max_left, max_right, left_sum+right_sum)"
      ],
      "execution_count": 2,
      "outputs": []
    },
    {
      "cell_type": "code",
      "metadata": {
        "id": "QkhaJdh69mkZ"
      },
      "source": [
        "def MaximumSubarray(A,low,high):\n",
        "  #One number\n",
        "  if (high==low):\n",
        "    return (low, high, A[low])\n",
        "  else:\n",
        "    mid = (low+high)//2\n",
        "\n",
        "    (left_low,left_high,left_sum) = MaximumSubarray(A,low,mid) #left\n",
        "    (right_low,right_high,right_sum) = MaximumSubarray(A,mid+1,high) #right\n",
        "    (cross_low,cross_high,cross_sum) = MaxCrossingSubarray(A,low,mid,high)\n",
        "\n",
        "    if (left_sum>=right_sum and left_sum>=cross_sum):\n",
        "      return (left_low,left_high,left_sum)\n",
        "    elif (right_sum>=left_sum and right_sum>=cross_sum):\n",
        "      return (right_low,right_high,right_sum)\n",
        "    else:\n",
        "      return (cross_low,cross_high,cross_sum)\n"
      ],
      "execution_count": 3,
      "outputs": []
    },
    {
      "cell_type": "code",
      "metadata": {
        "id": "8QxN9QIEJOP3",
        "colab": {
          "base_uri": "https://localhost:8080/"
        },
        "outputId": "178efd56-1766-4a4a-c85f-8a31b654943c"
      },
      "source": [
        "n = [10, 100, 1000, 10000, 100000]\n",
        "\n",
        "execution_time = []\n",
        "\n",
        "for k in range(0,len(n)):\n",
        "  A = np.random.randint(-100,100, n[k])\n",
        "  start_time = time.time()\n",
        "  (left, right, sum) = MaximumSubarray(A, 0, len(A)-1)\n",
        "  execution_time.append(time.time()-start_time)\n",
        "\n",
        "  print (A)\n",
        "  print('left, right, sum --> ({},{},{})'.format(left, right, sum))"
      ],
      "execution_count": 7,
      "outputs": [
        {
          "output_type": "stream",
          "name": "stdout",
          "text": [
            "[-46  -8 -32 -89 -88  39  38  43 -57 -66]\n",
            "left, right, sum --> (5,7,120)\n",
            "[ 64  81  57 -44  98 -49 -11 -45  62 -85  65  77 -19 -81 -31  84  61  34\n",
            "  93  28  76 -70 -85 -98   7  79 -69  90 -24  61  28  71  87 -54 -27  49\n",
            "  18  18  -7 -11 -73  84  -9  76 -84  15 -55 -29  49 -33 -67 -45 -78 -46\n",
            "  -1 -51  12 -63  13  90 -60 -78 -14  11  57  -2 -33 -32  88 -22 -63 -26\n",
            "  33 -52  57 -84  24  46 -66 -98  -3  66  34 -73  27 -33  58 -21 -19  27\n",
            "   1 -69  39 -28  32 -69  73  63 -36   3]\n",
            "left, right, sum --> (0,43,656)\n",
            "[ -66  -94  -37   64    5   89   97  -90   78  -38   48   23   80   63\n",
            "  -62  -68   90   53   37   21  -94  -78  -36   69    0   29   65  -85\n",
            "   75  -90   51    8  -77   46   31    1   65   30   87   56  -60  -62\n",
            "   -6  -13  -73  -87   38   -4  -43  -87  -85   67   15  -53  -56  -27\n",
            "  -47   80  -22   61   76   66   36   97   90  -83   88   14  -82  -28\n",
            "  -37   13  -65   16  -17   -6  -23   54   58   91  -41   17  -31  -46\n",
            "  -42   93  -25  -23   22   97  -37  -23  -31   99  -20   66  -66   22\n",
            "   10  -37   48  -14  -71   90   91    6    8   10    2  -36   85  -18\n",
            "  -57  -13   33  -79  -44   37   88   28  -23    7   78   74  -49  -87\n",
            "   57  -78  -60   76   45   88  -15    6  -27   82   99  -73   68  -55\n",
            "   82  -67   37  -12   60  -28   22   35   -6   35   69  -11  -54  -29\n",
            "  -15   -5   51   53  -68  -24   58  -93 -100   75   -3  -72   79  -21\n",
            "   99  -46  -44  -92    2   67  -27  -55   16  -90   91  -36   45  -94\n",
            "   55   30  -89   69   -7  -28   72   34   90   47   29   38   20  -31\n",
            "  -41  -70   29   55   60  -33   83   70   19   79    0  -79   86   29\n",
            "  -66   91  -85 -100  -51  -77  -45   92  -63   60  -77  -42  -79   57\n",
            "  -66   19  -78   80   35   69   99   72    9  -83  -76  -89  -19  -32\n",
            "  -45   17   39  -47  -99   57   39   19   71  -95   53  -66   59   82\n",
            "   77   57  -14  -82   -3  -16    2   12   33  -64  -58  -37   80    3\n",
            "  -61  -35  -22  -76  -29   39   -3  -83   64   34  -77  -26  -13   93\n",
            "  -43  -83   73  -45   58  -21   28   96   47  -61   42   76   77  -66\n",
            "   44   65  -98   99   -2   77  -29   98   17  -17  -63   89  -49   94\n",
            "  -29  -88   -2   75   -2  -59   68   64  -54   51  -74  -83   19   -5\n",
            "  -38   10   87  -89  -69   91   57   56  -49  -81   45 -100  -94    7\n",
            "  -94  -31    8  -84   15   57    2   64   90   26  -33   29  -19  -24\n",
            "  -21   84  -25   -6  -42  -31   36  -13  -63   92   94   47  -67  -14\n",
            "   97  -87   53   14  -25   -2  -63  -72   51    8  -85  -27   -5  -60\n",
            "  -11  -35  -99   27  -12  -66   47  -18  -13  -71   -3   52   92  -18\n",
            "   43   64  -33  -37  -17  -20   58  -19   49  -74   35  -86   43   20\n",
            "   32   87   82   67  -38   12  -35  -85  -57    5  -26  -86   96  -76\n",
            "   50   94   26  -46  -31   20   49  -26  -43   38   80  -22  -49  -37\n",
            "   64  -85  -32  -53  -22  -47  -38   97   16  -96   65  -93  -91   80\n",
            "  -44   24  -99   13  -20  -57  -66  -31   59   49  -15   89  -57  -80\n",
            "  -75  -25  -55  -25   20   20  -86   80  -56  -41  -18   24   52   37\n",
            "   15   22   32    2   10   36   -5  -47  -52   91  -39   13  -80    8\n",
            "  -43   -4   11   18  -81   61  -82  -88   67    7  -83  -45   27   47\n",
            "  -41   44  -16   15   11   88   94   18   45  -13  -40  -80   35  -95\n",
            "   42  -21    0   48  -22   20  -39   38   74   55    0   10   48   31\n",
            "  -80    4  -66   51   61  -78   10  -12  -27  -88   77  -25   -5  -66\n",
            "  -76   -1   11    0  -25  -57  -32  -81   -5   17  -90  -26   37  -21\n",
            "   41   38  -78  -81   99  -13   91  -86  -27   78   99   17   42  -19\n",
            "   -1  -30   38   88  -94  -59  -96  -41  -76   31   64  -24  -26  -96\n",
            "  -22  -30  -68  -92  -96  -61  -55  -80   97   93   20  -26   46  -78\n",
            "   95   25  -49   13   72   54   82   47 -100   84  -48   47  -37  -97\n",
            "  -12  -83   66   64  -64   93  -94    4   54    0   27   62   -5   75\n",
            "  -67  -24  -58  -33   87    2  -69  -56    0   69   46   82  -40   69\n",
            "   22   87  -77  -32  -10   15  -68  -88  -62   22   47   71  -42  -13\n",
            "   -1    7   85   87   95   83  -17   99   89   75  -45  -77  -49   70\n",
            "  -83   30   19   29  -79  -44   94  -23  -59  -49  -97  -35   37  -94\n",
            "  -36  -13   19   16   93  -14  -95  -28   51   62  -68   98   41   18\n",
            "  -52  -23  -79  -43  -79    7    2   20  -16  -16  -99  -62  -64   71\n",
            "  -59  -15  -45  -86  -56   62    8   34   79  -97  -46    1  -80   36\n",
            "   94  -30   77   84  -93  -94   21   59   54  -70  -28   29   93  -90\n",
            "  -94  -80   87  -84   -1   88   13   79  -88   10  -21  -92   32   13\n",
            "   -5   93   65   -8   64   40  -24  -97   39  -32   69   73  -59   38\n",
            "   47   57  -16   78   30   64   42   70   67   17   -5   96   15   44\n",
            "  -11   19  -54   24   90  -60  -27    3  -93    2   -6   76  -42  -58\n",
            "  -56    2  -97   34  -25   78  -29   63   16    0    1  -73  -55   79\n",
            "   64  -45    3   80  -54   60   73   32  -40   98   34  -57  -41   48\n",
            "   45  -91   75  -28   11  -57   69   70   78  -69  -97   56    5   30\n",
            "  -10   -5  -84  -73  -92  -92   98   71  -90   13   87   48   -5   82\n",
            "  -27  -65  -29   94  -42  -72   52  -86   50  -32   45   98   19  -32\n",
            "  -44   58  -23  -18   58   86   98  -42   14   23   92   47   27  -76\n",
            "   76   15  -34   73  -36   -4   25  -74   87    1  -23    2   26   52\n",
            "    4   74   63  -81   -4  -27   -3  -50  -64   46  -83   22  -22  -57\n",
            "  -73   58   87  -58   34  -10  -70   78   29   95   40  -40   -5   -5\n",
            "   97  -17   24   -4   62   89  -68   93  -55  -27  -84   30   40   77\n",
            "  -33   19   75  -20   83   73  -76  -71   93  -51  -31  -66  -90  -66\n",
            "   66  -19   22  -30    9  -62   74   83   -1  -31  -90    6    6  -19\n",
            "   62  -15  -52   99 -100   -9  -61   13  -52 -100  -33  -90  -62   95\n",
            "  -50  -92   83   47    9  -51   95   84   11   -4  -84  -33   -5   22\n",
            "   83   28  -62    0  -36    0]\n",
            "left, right, sum --> (754,943,1899)\n",
            "[ 38  80  60 ...   8 -30 -10]\n",
            "left, right, sum --> (2473,7331,6330)\n",
            "[ 87 -24   3 ...  48 -85  61]\n",
            "left, right, sum --> (65325,69081,11677)\n"
          ]
        }
      ]
    },
    {
      "cell_type": "code",
      "metadata": {
        "colab": {
          "base_uri": "https://localhost:8080/",
          "height": 300
        },
        "id": "8wcha1OcS-ol",
        "outputId": "b1e930eb-723f-4f2c-f0f5-c11d1031feb2"
      },
      "source": [
        "c= 1/500000\n",
        "\n",
        "plt.xscale(\"log\")\n",
        "\n",
        "plt.xlabel('Size of N')\n",
        "\n",
        "plt.ylabel('Complexity')\n",
        "\n",
        "plt.plot(n, execution_time, label='Actual Time')\n",
        "\n",
        "y_nlogn = n*(np.log(n))\n",
        "\n",
        "y_cnlogn = [i*c for i in y_nlogn]\n",
        "\n",
        "plt.plot(n, y_cnlogn, label='Theoretical Time')\n",
        "\n",
        "plt.legend()\n"
      ],
      "execution_count": 8,
      "outputs": [
        {
          "output_type": "execute_result",
          "data": {
            "text/plain": [
              "<matplotlib.legend.Legend at 0x7f460498b810>"
            ]
          },
          "metadata": {},
          "execution_count": 8
        },
        {
          "output_type": "display_data",
          "data": {
            "image/png": "[encoded data removed]",
            "text/plain": [
              "<Figure size 432x288 with 1 Axes>"
            ]
          },
          "metadata": {
            "needs_background": "light"
          }
        }
      ]
    },
    {
      "cell_type": "code",
      "metadata": {
        "colab": {
          "base_uri": "https://localhost:8080/",
          "height": 300
        },
        "id": "nB3dKnavaI94",
        "outputId": "b6819743-463e-4ff1-c76c-abfdcee347bb"
      },
      "source": [
        "c= 1/500000\n",
        "\n",
        "plt.xscale(\"log\")\n",
        "plt.yscale(\"log\")\n",
        "\n",
        "plt.xlabel('Size of N')\n",
        "\n",
        "plt.ylabel('Complexity')\n",
        "\n",
        "plt.plot(n, execution_time, marker='o', label='Actual Time')\n",
        "\n",
        "y_nlogn = n*(np.log(n))\n",
        "\n",
        "y_cnlogn = [i*c for i in y_nlogn]\n",
        "\n",
        "plt.plot(n, y_cnlogn,marker='o', label='Theoretical Time')\n",
        "\n",
        "plt.legend()\n"
      ],
      "execution_count": 9,
      "outputs": [
        {
          "output_type": "execute_result",
          "data": {
            "text/plain": [
              "<matplotlib.legend.Legend at 0x7f460481a890>"
            ]
          },
          "metadata": {},
          "execution_count": 9
        },
        {
          "output_type": "display_data",
          "data": {
            "image/png": "[encoded data removed]",
            "text/plain": [
              "<Figure size 432x288 with 1 Axes>"
            ]
          },
          "metadata": {
            "needs_background": "light"
          }
        }
      ]
    }
  ]
}