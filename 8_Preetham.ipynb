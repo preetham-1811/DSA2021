{
  "nbformat": 4,
  "nbformat_minor": 0,
  "metadata": {
    "colab": {
      "name": "8-Preetham.ipynb",
      "provenance": [],
      "collapsed_sections": []
    },
    "kernelspec": {
      "name": "python3",
      "display_name": "Python 3"
    },
    "language_info": {
      "name": "python"
    }
  },
  "cells": [
    {
      "cell_type": "code",
      "metadata": {
        "colab": {
          "base_uri": "https://localhost:8080/"
        },
        "id": "gib5Gj898QBx",
        "outputId": "d624d3c4-3ba1-4cbd-a729-de8f922aa39c"
      },
      "source": [
        "class Node:\n",
        "    def __init__(self, val):\n",
        "        self.l = None\n",
        "        self.r = None\n",
        "        self.v = val\n",
        "\n",
        "class Tree:\n",
        "    def __init__(self):\n",
        "        self.root = None\n",
        "\n",
        "    def getRoot(self):\n",
        "        return self.root\n",
        "\n",
        "    def add(self, val):\n",
        "        if self.root is None:\n",
        "            self.root = Node(val)\n",
        "        else:\n",
        "            self._add(val, self.root)\n",
        "\n",
        "    def _add(self, val, node):\n",
        "        if val < node.v:\n",
        "            if node.l is not None:\n",
        "                self._add(val, node.l)\n",
        "            else:\n",
        "                node.l = Node(val)\n",
        "        else:\n",
        "            if node.r is not None:\n",
        "                self._add(val, node.r)\n",
        "            else:\n",
        "                node.r = Node(val)\n",
        "\n",
        "    def find(self, val):\n",
        "        if self.root is not None:\n",
        "            return self._find(val, self.root)\n",
        "        else:\n",
        "            return None\n",
        "\n",
        "    def _find(self, val, node):\n",
        "        if val == node.v:\n",
        "            return node\n",
        "        elif (val < node.v and node.l is not None):\n",
        "            return self._find(val, node.l)\n",
        "        elif (val > node.v and node.r is not None):\n",
        "            return self._find(val, node.r)\n",
        "\n",
        "    def deleteTree(self):\n",
        "        self.root = None\n",
        "\n",
        "    def printTree(self):\n",
        "        if self.root is not None:\n",
        "            self._printTree(self.root)\n",
        "\n",
        "    def _printTree(self, node):\n",
        "        if node is not None:\n",
        "            self._printTree(node.l)\n",
        "            print(str(node.v) + ' ')\n",
        "            self._printTree(node.r)\n",
        "\n",
        "    def inOrderSuccessor(n):\n",
        "      \n",
        "   \n",
        "    if n.right is not None:\n",
        "        return minValue(n.right)\n",
        "\n",
        "    p = n.parent\n",
        "    while( p is not None):\n",
        "        if n != p.right :\n",
        "            break \n",
        "        n = p \n",
        "        p = p.parent\n",
        "    return p\n",
        "\n",
        "\n",
        "tree = Tree()\n",
        "tree.add(3)\n",
        "tree.add(4)\n",
        "tree.add(0)\n",
        "tree.add(8)\n",
        "tree.add(2)\n",
        "tree.printTree()\n",
        "print(tree.find(3).v)\n",
        "print(tree.find(10))\n",
        "tree.deleteTree()\n",
        "tree.printTree()\n"
      ],
      "execution_count": null,
      "outputs": [
        {
          "output_type": "stream",
          "name": "stdout",
          "text": [
            "0 \n",
            "2 \n",
            "3 \n",
            "4 \n",
            "8 \n",
            "3\n",
            "None\n"
          ]
        }
      ]
    }
  ]
}