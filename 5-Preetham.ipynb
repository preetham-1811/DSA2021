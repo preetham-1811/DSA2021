{
  "nbformat": 4,
  "nbformat_minor": 0,
  "metadata": {
    "colab": {
      "name": "Assignment5.ipynb",
      "provenance": []
    },
    "kernelspec": {
      "name": "python3",
      "display_name": "Python 3"
    },
    "language_info": {
      "name": "python"
    }
  },
  "cells": [
    {
      "cell_type": "code",
      "metadata": {
        "id": "YyYVPj1Ch0cI"
      },
      "source": [
        "import numpy as np"
      ],
      "execution_count": null,
      "outputs": []
    },
    {
      "cell_type": "code",
      "metadata": {
        "colab": {
          "base_uri": "https://localhost:8080/"
        },
        "id": "zR6Bmu78i1zo",
        "outputId": "ce8f3ac8-0e24-4887-9ff8-fe08469afbfe"
      },
      "source": [
        "A = []\n",
        "\n",
        "s = int(input(\"size of array:\"))\n",
        "\n",
        "for i in range(s):\n",
        "  x = int(input(\"element:\"))\n",
        "  A.append(x)"
      ],
      "execution_count": 101,
      "outputs": [
        {
          "name": "stdout",
          "output_type": "stream",
          "text": [
            "size of array:9\n",
            "element:5\n",
            "element:3\n",
            "element:17\n",
            "element:10\n",
            "element:84\n",
            "element:19\n",
            "element:6\n",
            "element:22\n",
            "element:9\n"
          ]
        }
      ]
    },
    {
      "cell_type": "code",
      "metadata": {
        "id": "jkdgldXCM5WI"
      },
      "source": [
        "#Quick Sort\n",
        "\n",
        "def partition(A,p,r):\n",
        "  x = A[r]\n",
        "  i = p-1\n",
        "  \n",
        "  for j in range(p,r):\n",
        "    if (A[j]<=x):\n",
        "      i=i+1\n",
        "      A[i], A[j] = A[j], A[i]\n",
        "  A[i+1], A[r] = A[r], A[i+1]\n",
        "  return i+1\n",
        "\n",
        "def quicksort(A,p,r):\n",
        "  if (p<r):\n",
        "    q = partition(A,p,r)\n",
        "    quicksort(A,p,q-1)\n",
        "    quicksort(A,q+1,r)\n",
        "    "
      ],
      "execution_count": 102,
      "outputs": []
    },
    {
      "cell_type": "code",
      "metadata": {
        "colab": {
          "base_uri": "https://localhost:8080/"
        },
        "id": "aDFcw1_0kumA",
        "outputId": "ca3f4f65-464d-4d9f-aaa1-dac07e5359ba"
      },
      "source": [
        "quicksort(A,0,len(A)-1)\n",
        "print(A)"
      ],
      "execution_count": 103,
      "outputs": [
        {
          "output_type": "stream",
          "name": "stdout",
          "text": [
            "[3, 5, 6, 9, 10, 17, 19, 22, 84]\n"
          ]
        }
      ]
    },
    {
      "cell_type": "code",
      "metadata": {
        "id": "HV2Tgs-KUoOB"
      },
      "source": [
        "#Heap Sort\n",
        "\n",
        "def left(i):\n",
        "  return 2*i + 1\n",
        "\n",
        "def right(i):\n",
        "  return 2*(i + 1)\n",
        "\n",
        "def max_heapify(A,i,n):\n",
        "\n",
        "  l = left(i)\n",
        "  r = right(i)\n",
        "\n",
        "  if (l <= n and A[l] > A[i]):\n",
        "    largest = l\n",
        "  else:\n",
        "    largest = i\n",
        "  if (r <= n and A[r] > A[largest]):\n",
        "    largest = r\n",
        "  if (largest != i):\n",
        "    A[i], A[largest] = A[largest], A[i]\n",
        "    max_heapify(A,largest,n)\n",
        "\n",
        "def build_max_heap(A,n):\n",
        "  for i in range((len(A)-2)//2,-1,-1):\n",
        "    max_heapify(A,i,n)\n",
        "\n",
        "def heapsort(A):\n",
        "  n = len(A)-1\n",
        "  build_max_heap(A,n)\n",
        "  for i in range(len(A)-1,0,-1):\n",
        "    A[0], A[i] = A[i], A[0]\n",
        "    n = n-1\n",
        "    max_heapify(A, 0, n)"
      ],
      "execution_count": 93,
      "outputs": []
    },
    {
      "cell_type": "code",
      "metadata": {
        "colab": {
          "base_uri": "https://localhost:8080/"
        },
        "id": "58TAKssQqedp",
        "outputId": "4165cce2-8c08-45fd-9a79-2e47b78faef6"
      },
      "source": [
        "heapsort(A)\n",
        "print(A)\n"
      ],
      "execution_count": 98,
      "outputs": [
        {
          "output_type": "stream",
          "name": "stdout",
          "text": [
            "[3, 5, 6, 9, 10, 17, 19, 22, 84]\n"
          ]
        }
      ]
    }
  ]
}