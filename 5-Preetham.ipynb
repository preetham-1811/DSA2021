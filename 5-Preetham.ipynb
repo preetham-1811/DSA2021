{
  "nbformat": 4,
  "nbformat_minor": 0,
  "metadata": {
    "colab": {
      "name": "5-Preetham.ipynb",
      "provenance": []
    },
    "kernelspec": {
      "name": "python3",
      "display_name": "Python 3"
    },
    "language_info": {
      "name": "python"
    }
  },
  "cells": [
    {
      "cell_type": "code",
      "metadata": {
        "id": "YyYVPj1Ch0cI"
      },
      "source": [
        "import numpy as np\n",
        "import random\n",
        "import time\n",
        "import math\n",
        "import matplotlib.pyplot as plt"
      ],
      "execution_count": 15,
      "outputs": []
    },
    {
      "cell_type": "code",
      "metadata": {
        "colab": {
          "base_uri": "https://localhost:8080/"
        },
        "id": "zR6Bmu78i1zo",
        "outputId": "09450b3c-3df1-4573-ef4c-a235eb670cb8"
      },
      "source": [
        "A = []\n",
        "\n",
        "s = int(input(\"size of array:\"))\n",
        "\n",
        "for i in range(s):\n",
        "  x = int(input(\"element:\"))\n",
        "  A.append(x)"
      ],
      "execution_count": 10,
      "outputs": [
        {
          "name": "stdout",
          "output_type": "stream",
          "text": [
            "size of array:4\n",
            "element:9\n",
            "element:5\n",
            "element:8\n",
            "element:1\n"
          ]
        }
      ]
    },
    {
      "cell_type": "code",
      "metadata": {
        "id": "jkdgldXCM5WI"
      },
      "source": [
        "#Quick Sort\n",
        "\n",
        "def partition(A,p,r):\n",
        "  x = A[r]\n",
        "  i = p-1\n",
        "  \n",
        "  for j in range(p,r):\n",
        "    if (A[j]<=x):\n",
        "      i=i+1\n",
        "      A[i], A[j] = A[j], A[i]\n",
        "  A[i+1], A[r] = A[r], A[i+1]\n",
        "  return i+1\n",
        "\n",
        "def quicksort(A,p,r):\n",
        "  if (p<r):\n",
        "    q = partition(A,p,r)\n",
        "    quicksort(A,p,q-1)\n",
        "    quicksort(A,q+1,r)\n",
        "    "
      ],
      "execution_count": 11,
      "outputs": []
    },
    {
      "cell_type": "code",
      "metadata": {
        "colab": {
          "base_uri": "https://localhost:8080/"
        },
        "id": "aDFcw1_0kumA",
        "outputId": "df0d29c0-d665-4af1-919d-1ba6389535e2"
      },
      "source": [
        "quicksort(A,0,len(A)-1)\n",
        "print(A)"
      ],
      "execution_count": 12,
      "outputs": [
        {
          "output_type": "stream",
          "name": "stdout",
          "text": [
            "[1, 5, 8, 9]\n"
          ]
        }
      ]
    },
    {
      "cell_type": "code",
      "metadata": {
        "id": "HV2Tgs-KUoOB"
      },
      "source": [
        "#Heap Sort\n",
        "\n",
        "def left(i):\n",
        "  return 2*i + 1\n",
        "\n",
        "def right(i):\n",
        "  return 2*(i + 1)\n",
        "\n",
        "def max_heapify(A,i,n):\n",
        "\n",
        "  l = left(i)\n",
        "  r = right(i)\n",
        "\n",
        "  if (l <= n and A[l] > A[i]):\n",
        "    largest = l\n",
        "  else:\n",
        "    largest = i\n",
        "  if (r <= n and A[r] > A[largest]):\n",
        "    largest = r\n",
        "  if (largest != i):\n",
        "    A[i], A[largest] = A[largest], A[i]\n",
        "    max_heapify(A,largest,n)\n",
        "\n",
        "def build_max_heap(A,n):\n",
        "  for i in range((len(A)-2)//2,-1,-1):\n",
        "    max_heapify(A,i,n)\n",
        "\n",
        "def heapsort(A):\n",
        "  n = len(A)-1\n",
        "  build_max_heap(A,n)\n",
        "  for i in range(len(A)-1,0,-1):\n",
        "    A[0], A[i] = A[i], A[0]\n",
        "    n = n-1\n",
        "    max_heapify(A, 0, n)"
      ],
      "execution_count": 13,
      "outputs": []
    },
    {
      "cell_type": "code",
      "metadata": {
        "colab": {
          "base_uri": "https://localhost:8080/"
        },
        "id": "58TAKssQqedp",
        "outputId": "4282d644-8a1f-42d4-80ef-ba6375275609"
      },
      "source": [
        "heapsort(A)\n",
        "print(A)\n"
      ],
      "execution_count": 14,
      "outputs": [
        {
          "output_type": "stream",
          "name": "stdout",
          "text": [
            "[1, 5, 8, 9]\n"
          ]
        }
      ]
    },
    {
      "cell_type": "code",
      "metadata": {
        "colab": {
          "base_uri": "https://localhost:8080/",
          "height": 279
        },
        "id": "FDrXKsTHM_GY",
        "outputId": "1147a823-930b-47fc-995b-de3b5d06cc58"
      },
      "source": [
        "n = [10, 100, 500, 1000, 2000, 5000, 10000]\n",
        "\n",
        "quicksort_time = []\n",
        "heapsort_time =[]\n",
        "\n",
        "for j in n:\n",
        "  A = random.sample(range(j),j)\n",
        "\n",
        "  start_time = time.time()\n",
        "  quicksort(A.copy(),0,len(A)-1)\n",
        "  quicksort_time.append(time.time()-start_time)\n",
        "\n",
        "  start_time = time.time()\n",
        "  heapsort(A.copy())\n",
        "  heapsort_time.append(time.time()-start_time)\n",
        "\n",
        "plt.plot(n,quicksort_time,label='quick sort')\n",
        "plt.plot(n,heapsort_time,label='heap sort')\n",
        "\n",
        "plt.xlabel(\"n size\")\n",
        "plt.ylabel('time taken')\n",
        "\n",
        "plt.legend()\n",
        "plt.show()\n",
        "\n",
        "\n"
      ],
      "execution_count": 22,
      "outputs": [
        {
          "output_type": "display_data",
          "data": {
            "image/png": "[encoded data removed]",
            "text/plain": [
              "<Figure size 432x288 with 1 Axes>"
            ]
          },
          "metadata": {
            "needs_background": "light"
          }
        }
      ]
    }
  ]
}