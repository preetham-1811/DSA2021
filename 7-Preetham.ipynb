{
  "nbformat": 4,
  "nbformat_minor": 0,
  "metadata": {
    "colab": {
      "name": "7-Preetham.ipynb",
      "provenance": []
    },
    "kernelspec": {
      "name": "python3",
      "display_name": "Python 3"
    },
    "language_info": {
      "name": "python"
    }
  },
  "cells": [
    {
      "cell_type": "code",
      "metadata": {
        "id": "RAwFAIMO7bWO"
      },
      "source": [
        "#stack\n",
        "import re\n",
        "\n",
        "lo = ['{','[','(']\n",
        "\n",
        "lc = ['}',']',')']\n",
        "\n",
        "\n",
        "\n",
        "def stack_Check(s):\n",
        "\n",
        "  st=[]\n",
        "  A = []\n",
        "  \n",
        "\n",
        "  for i in s:\n",
        "    st.append(i)\n",
        "\n",
        "  for j in range(len(st)):\n",
        "    \n",
        "    if (st[j] in lo):\n",
        "      A.append(st[j])\n",
        "    elif (st[j] in lc):\n",
        "      for k in range(len(lc)):\n",
        "        if (st[j]==lc[k]):\n",
        "          ind = k\n",
        "          top = len(A)-1\n",
        "          if (len(A)>0 and lo[ind]==A[top]):\n",
        "            A.pop()\n",
        "          else:\n",
        "            return \"not ok\"\n",
        "    else:\n",
        "      return \"enter valid string\"\n",
        "\n",
        "  if (len(A)==0):\n",
        "    return \"ok\"\n",
        "  else:\n",
        "    return \"not ok\"\n",
        "          "
      ],
      "execution_count": 64,
      "outputs": []
    },
    {
      "cell_type": "code",
      "metadata": {
        "colab": {
          "base_uri": "https://localhost:8080/",
          "height": 35
        },
        "id": "FOSY3dfr3AIq",
        "outputId": "71d5c4fd-49ef-488e-aa44-f32b8668cb47"
      },
      "source": [
        "s = \"{[[]]{()}}\"\n",
        "\n",
        "stack_Check(s)"
      ],
      "execution_count": 67,
      "outputs": [
        {
          "output_type": "execute_result",
          "data": {
            "application/vnd.google.colaboratory.intrinsic+json": {
              "type": "string"
            },
            "text/plain": [
              "'ok'"
            ]
          },
          "metadata": {},
          "execution_count": 67
        }
      ]
    },
    {
      "cell_type": "code",
      "metadata": {
        "colab": {
          "base_uri": "https://localhost:8080/",
          "height": 35
        },
        "id": "91LOrLLmjRPe",
        "outputId": "bbaba9da-95cc-4c6b-911b-f5a9bffed5f3"
      },
      "source": [
        "s = \"[{\"\n",
        "\n",
        "stack_Check(s)"
      ],
      "execution_count": 61,
      "outputs": [
        {
          "output_type": "execute_result",
          "data": {
            "application/vnd.google.colaboratory.intrinsic+json": {
              "type": "string"
            },
            "text/plain": [
              "'not ok'"
            ]
          },
          "metadata": {},
          "execution_count": 61
        }
      ]
    },
    {
      "cell_type": "code",
      "metadata": {
        "colab": {
          "base_uri": "https://localhost:8080/",
          "height": 35
        },
        "id": "xTxiFWMMjj3L",
        "outputId": "daacb8db-d361-4076-9ec7-debb9b25d0ce"
      },
      "source": [
        "s = \"[{$\"\n",
        "\n",
        "stack_Check(s)"
      ],
      "execution_count": 62,
      "outputs": [
        {
          "output_type": "execute_result",
          "data": {
            "application/vnd.google.colaboratory.intrinsic+json": {
              "type": "string"
            },
            "text/plain": [
              "'enter valid string'"
            ]
          },
          "metadata": {},
          "execution_count": 62
        }
      ]
    },
    {
      "cell_type": "code",
      "metadata": {
        "id": "NU_kRPx9jntr"
      },
      "source": [
        "#queue\n",
        "\n",
        "loq = ['{','[','(']\n",
        "lcq = ['}',']',')']\n",
        "\n",
        "\n",
        "\n",
        "def queue_check(s):\n",
        "\n",
        "  stq = []\n",
        "  B = []\n",
        "\n",
        "  for i in s:\n",
        "    stq.append(i)\n",
        "\n",
        "  for j in range(len(stq)):\n",
        "\n",
        "    if (stq[j] in loq):\n",
        "      B.insert(0,stq[j])\n",
        "\n",
        "    elif (stq[j] in lcq):\n",
        "      for k in range(len(lcq)):\n",
        "        if (stq[j]==lcq[k]):\n",
        "          ind = k\n",
        "          if (len(B)>0 and lo[ind]==B[0]):\n",
        "            B.pop(0)\n",
        "          else:\n",
        "            \"not ok\"\n",
        "    else:\n",
        "      return \"enter valid string\"\n",
        "            \n",
        "          \n",
        "\n",
        "  if (len(B)==0):\n",
        "    return \"ok\"\n",
        "  else:\n",
        "    return \"not ok\"\n",
        "\n"
      ],
      "execution_count": 104,
      "outputs": []
    },
    {
      "cell_type": "code",
      "metadata": {
        "colab": {
          "base_uri": "https://localhost:8080/",
          "height": 35
        },
        "id": "jG7SKcb6pfSd",
        "outputId": "7c9b12a3-d33b-44e7-ef81-84a7784d30e3"
      },
      "source": [
        "s = \"{[[]]{()}}\"\n",
        "\n",
        "queue_check(s)"
      ],
      "execution_count": 102,
      "outputs": [
        {
          "output_type": "execute_result",
          "data": {
            "application/vnd.google.colaboratory.intrinsic+json": {
              "type": "string"
            },
            "text/plain": [
              "'ok'"
            ]
          },
          "metadata": {},
          "execution_count": 102
        }
      ]
    },
    {
      "cell_type": "code",
      "metadata": {
        "colab": {
          "base_uri": "https://localhost:8080/",
          "height": 35
        },
        "id": "u1ncC2fduZTF",
        "outputId": "69e248db-5e8d-440d-e474-1f29bd84a211"
      },
      "source": [
        "s = \"[{}\"\n",
        "\n",
        "queue_check(s)"
      ],
      "execution_count": 103,
      "outputs": [
        {
          "output_type": "execute_result",
          "data": {
            "application/vnd.google.colaboratory.intrinsic+json": {
              "type": "string"
            },
            "text/plain": [
              "'not ok'"
            ]
          },
          "metadata": {},
          "execution_count": 103
        }
      ]
    },
    {
      "cell_type": "code",
      "metadata": {
        "colab": {
          "base_uri": "https://localhost:8080/",
          "height": 35
        },
        "id": "eZD1KhAtuZuv",
        "outputId": "8c003976-601b-4aec-b9f5-8574ac2e9b32"
      },
      "source": [
        "s = \"{[}]([)S\"\n",
        "\n",
        "queue_check(s)"
      ],
      "execution_count": 111,
      "outputs": [
        {
          "output_type": "execute_result",
          "data": {
            "application/vnd.google.colaboratory.intrinsic+json": {
              "type": "string"
            },
            "text/plain": [
              "'enter valid string'"
            ]
          },
          "metadata": {},
          "execution_count": 111
        }
      ]
    }
  ]
}