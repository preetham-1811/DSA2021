{
  "nbformat": 4,
  "nbformat_minor": 0,
  "metadata": {
    "colab": {
      "name": "Assignment6.ipynb",
      "provenance": [],
      "collapsed_sections": []
    },
    "kernelspec": {
      "name": "python3",
      "display_name": "Python 3"
    },
    "language_info": {
      "name": "python"
    }
  },
  "cells": [
    {
      "cell_type": "code",
      "metadata": {
        "id": "YyYVPj1Ch0cI"
      },
      "source": [
        "import numpy as np\n",
        "import math\n",
        "import matplotlib.pyplot as plt\n",
        "import time\n",
        "import random"
      ],
      "execution_count": 1,
      "outputs": []
    },
    {
      "cell_type": "code",
      "metadata": {
        "id": "zGuTTPi0R2vK"
      },
      "source": [
        "#Counting Sort\n",
        "def stable_counting_sort(A, B, k, d):\n",
        "    C = [0]*(k+1)\n",
        "    \n",
        "    for j in range(len(A)):\n",
        "        C[d[j]] = C[d[j]] + 1\n",
        "\n",
        "    for i in range(1,k+1):\n",
        "        C[i] = C[i] + C[i-1]\n",
        "\n",
        "    for j in range(len(A)-1,-1,-1):\n",
        "        B[C[d[j]]-1] = A[j]\n",
        "        C[d[j]] = C[d[j]] - 1\n",
        "    \n",
        "    return B\n",
        "\n",
        "#Radix Sort\n",
        "def radix_sort(A):\n",
        "  \n",
        "    n = len(str(A[0]))\n",
        "    B = [0]*len(A)\n",
        "\n",
        "    for i in range(0,n):\n",
        "        d = []\n",
        "        for j in range(len(A)):\n",
        "            d.append(np.mod((A[j]//pow(10,i)), 10))\n",
        "        A = stable_counting_sort(A, B, max(d), d)\n",
        "        return A\n",
        "\n"
      ],
      "execution_count": 2,
      "outputs": []
    },
    {
      "cell_type": "code",
      "metadata": {
        "id": "m1MKlne-ZEXk"
      },
      "source": [
        "#Quick Sort\n",
        "\n",
        "def partition(A,p,r):\n",
        "  x = A[r]\n",
        "  i = p-1\n",
        "  \n",
        "  for j in range(p,r):\n",
        "    if (A[j]<=x):\n",
        "      i=i+1\n",
        "      A[i], A[j] = A[j], A[i]\n",
        "  A[i+1], A[r] = A[r], A[i+1]\n",
        "  return i+1\n",
        "\n",
        "def quicksort(A,p,r):\n",
        "  if (p<r):\n",
        "    q = partition(A,p,r)\n",
        "    quicksort(A,p,q-1)\n",
        "    quicksort(A,q+1,r)"
      ],
      "execution_count": 3,
      "outputs": []
    },
    {
      "cell_type": "code",
      "metadata": {
        "colab": {
          "base_uri": "https://localhost:8080/",
          "height": 312
        },
        "id": "POyxq4F0ZNWr",
        "outputId": "bc9d3252-6b30-48e3-e1ec-f41d0ebce563"
      },
      "source": [
        "#Quick Sort Vs Radix Sort\n",
        "n = [10,100,1000,10000]\n",
        "\n",
        "quick_sort_time = []\n",
        "radix_sort_time = []\n",
        "\n",
        "for j in n:\n",
        "  A = np.random.randint(-100,100,j)\n",
        "  start_time = time.time()\n",
        "  quicksort(A.copy(),0,len(A)-1)\n",
        "  quick_sort_time.append(time.time()-start_time)\n",
        "\n",
        "  start_time = time.time()\n",
        "  radix_sort(A.copy())\n",
        "  radix_sort_time.append(time.time()-start_time)\n",
        "\n",
        "plt.plot(n,quick_sort_time,label='quick sort')\n",
        "plt.plot(n,radix_sort_time, label='radix_sort')\n",
        "\n",
        "plt.xlabel('number of elements')\n",
        "plt.ylabel('Time Taken')\n",
        "plt.title('Quick sort vs Radix Sort')\n",
        "\n",
        "plt.legend()\n",
        "\n",
        "plt.plot()\n"
      ],
      "execution_count": 4,
      "outputs": [
        {
          "output_type": "execute_result",
          "data": {
            "text/plain": [
              "[]"
            ]
          },
          "metadata": {},
          "execution_count": 4
        },
        {
          "output_type": "display_data",
          "data": {
            "image/png": "[encoded data removed]",
            "text/plain": [
              "<Figure size 432x288 with 1 Axes>"
            ]
          },
          "metadata": {
            "needs_background": "light"
          }
        }
      ]
    },
    {
      "cell_type": "code",
      "metadata": {
        "id": "2RxIHQEi1gwh"
      },
      "source": [
        "#insertionsort\n",
        "def insertion_sort(A):\n",
        "  for j in range(1,len(A)):\n",
        "    k=A[j]\n",
        "    i=j-1\n",
        "    while i>-1 and A[i]>k:\n",
        "      A[i+1]=A[i]\n",
        "      i=i-1\n",
        "    A[i+1]=k\n",
        "\n",
        "  return A"
      ],
      "execution_count": 5,
      "outputs": []
    },
    {
      "cell_type": "code",
      "metadata": {
        "id": "zRO5olG_4e0c"
      },
      "source": [
        "# Bucket Sort \n",
        "\n",
        "def bucket_Sort(A) :\n",
        "    B = []\n",
        "    n = len(A)\n",
        "    B2 = [[0]]*(n)\n",
        "\n",
        "    for i in range(n) :\n",
        "        B2[i] = []\n",
        "\n",
        "    for j in A:\n",
        "        B2[math.floor(n*j/pow(10,len(str(j))))].append(j)\n",
        "\n",
        "    for i in range(n) :\n",
        "        sB = insertion_sort(B2[i])\n",
        "        B = B + sB\n",
        "    return B"
      ],
      "execution_count": 6,
      "outputs": []
    },
    {
      "cell_type": "code",
      "metadata": {
        "colab": {
          "base_uri": "https://localhost:8080/",
          "height": 312
        },
        "id": "5xTu5BeLD8rl",
        "outputId": "e554890f-702d-4508-f2c7-645f61b56b63"
      },
      "source": [
        "#Quick Sort Vs Bucket Sort\n",
        "n = [10,100,1000,10000]\n",
        "\n",
        "quick_sort_time = []\n",
        "bucket_sort_time = []\n",
        "\n",
        "for j in n:\n",
        "  Ab = np.random.randint(-100,100,j)\n",
        "  start_time = time.time()\n",
        "  quicksort(Ab.copy(),0,len(Ab)-1)\n",
        "  quick_sort_time.append(time.time()-start_time)\n",
        "\n",
        "  start_time = time.time()\n",
        "  bucket_Sort(Ab.copy())\n",
        "  bucket_sort_time.append(time.time()-start_time)\n",
        "\n",
        "plt.plot(n,quick_sort_time,label='quick sort')\n",
        "plt.plot(n,bucket_sort_time, label='bucket sort')\n",
        "\n",
        "plt.xlabel('number of elements')\n",
        "plt.ylabel('Time Taken')\n",
        "plt.title('Quick sort vs Bucket Sort')\n",
        "\n",
        "plt.legend()\n",
        "\n",
        "plt.plot()\n"
      ],
      "execution_count": 8,
      "outputs": [
        {
          "output_type": "execute_result",
          "data": {
            "text/plain": [
              "[]"
            ]
          },
          "metadata": {},
          "execution_count": 8
        },
        {
          "output_type": "display_data",
          "data": {
            "image/png": "[encoded data removed]",
            "text/plain": [
              "<Figure size 432x288 with 1 Axes>"
            ]
          },
          "metadata": {
            "needs_background": "light"
          }
        }
      ]
    }
  ]
}